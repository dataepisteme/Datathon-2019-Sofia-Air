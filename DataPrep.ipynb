{
 "cells": [
  {
   "cell_type": "markdown",
   "metadata": {},
   "source": [
    "# Afterwards we proceed with plotting the industrial pollution so that we account for the concentration and the spread of the pollution. We load the libraries..."
   ]
  },
  {
   "cell_type": "code",
   "execution_count": 2,
   "metadata": {},
   "outputs": [],
   "source": [
    "library(tidyverse)\n",
    "library(lubridate)\n",
    "\n",
    "library(sp)\n",
    "\n",
    "# install.packages(\"sf\")\n",
    "# library(sf)\n",
    "\n",
    "library(raster)\n",
    "library(leaflet) \n",
    "library(leaflet.esri)\n",
    "library(leaflet.extras)\n",
    "\n",
    "library(snakecase)\n",
    "\n",
    "library(sf)\n",
    "library(spData)\n",
    "\n",
    "library(leaflet) # for interactive maps\n",
    "library(mapview) # for interactive maps\n",
    "library(ggplot2) # tidyverse vis package\n",
    "library(shiny) # for web applications\n",
    "\n",
    "library(maps)\n",
    "library(devtools)\n",
    "\n",
    "library(geojsonio)\n",
    "library(rgdal)\n"
   ]
  },
  {
   "cell_type": "markdown",
   "metadata": {},
   "source": [
    "# and the data"
   ]
  },
  {
   "cell_type": "code",
   "execution_count": 9,
   "metadata": {},
   "outputs": [],
   "source": [
    "# Load data\n",
    "\n",
    "# 1) Industrial\n",
    "InitIndustrial <- read.csv(\"industrial_pollution_v2.csv\") %>% \n",
    "  rename(Latitude = 'X.', Longitude = 'Y.', DeviceHeight = m, AnnualPM = 't.y')\n",
    "\n",
    "# 2) Atmosphere profile\n",
    "InitAtmoProfile <- read.csv(\"atmosphere_profile_train.csv\") %>% \n",
    "  mutate_at(vars(Date), funs(as_date(.)))\n",
    "\n",
    "  \n",
    "# 3) Construction Sites\n",
    "InitConstrSites <- read.csv(\"construction_sites.csv\")\n",
    "\n",
    "# 4) Sofia Topography\n",
    "InitSofiaTopo <- read.csv(\"sofia_topo.csv\")\n",
    "\n",
    "# 5) Stations\n",
    "InitStations <- read.csv(\"stations_data_train.csv\")\n",
    "\n",
    "# 6) Weather\n",
    "InitWeather <- read.csv(\"weather_train.csv\")\n",
    "\n",
    "# 7) HH data\n",
    "#InitHH <- read.csv(\"household_heating.csv\")\n",
    "\n",
    "# 8) Stations\n",
    "StationLoc <- read.csv(\"Stations.csv\")"
   ]
  },
  {
   "cell_type": "markdown",
   "metadata": {},
   "source": [
    "# Some transformations"
   ]
  },
  {
   "cell_type": "code",
   "execution_count": 10,
   "metadata": {},
   "outputs": [],
   "source": [
    "# Transform geolocation format in data on Industrial pollutants\n",
    "\n",
    "Industrial <- InitIndustrial %>% \n",
    "  mutate_at(vars(Longitude, Latitude), funs(as.character)) %>% \n",
    "  mutate_at(vars(Longitude, Latitude), funs(sub('\"', '', .))) %>% \n",
    "  mutate_at(vars(Longitude, Latitude), funs(sub('\"\"', '\\\" ', .))) %>% \n",
    "  mutate_at(vars(Longitude, Latitude), funs(sub(\"''\", \"'\", .))) %>% \n",
    "  mutate_at(vars(Longitude, Latitude), funs(substring(., 2))) %>% \n",
    "  mutate_at(vars(Longitude, Latitude), funs(str_sub(., 1, str_length(.)-2))) %>% \n",
    "  mutate_at(vars(Longitude, Latitude), funs(as.numeric(char2dms(., chd = \"°\", chm = \"'\", chs='\"'))))\n"
   ]
  },
  {
   "cell_type": "code",
   "execution_count": 11,
   "metadata": {},
   "outputs": [],
   "source": [
    "# Load Concentrations for day 1\n",
    "\n",
    "# Load concentrations\n",
    "newNames <- paste0(rep(\"Spread_\", 10), \n",
    "                   c(1000, 2000, 3000, 4000, 5000, 6000, 7000, 8000, 9000, 10000))\n",
    "\n",
    "ConcInd <- read.csv(\"C1.csv\") %>% \n",
    "  dplyr::select(-X) %>% \n",
    "  rename_all(~newNames) %>% \n",
    "  mutate(Latitude = Industrial$Latitude,\n",
    "         Longitude = Industrial$Longitude) "
   ]
  },
  {
   "cell_type": "markdown",
   "metadata": {},
   "source": [
    "# A simple raster of topographic data"
   ]
  },
  {
   "cell_type": "code",
   "execution_count": 62,
   "metadata": {},
   "outputs": [
    {
     "data": {
      "image/png": "[encoded data removed]",
      "text/plain": [
       "Plot with title “”"
      ]
     },
     "metadata": {},
     "output_type": "display_data"
    }
   ],
   "source": [
    "rast <- rasterFromXYZ(InitSofiaTopo[, c(2,1,3)])\n",
    "plot(rast)"
   ]
  },
  {
   "cell_type": "markdown",
   "metadata": {},
   "source": [
    "# Mapping"
   ]
  },
  {
   "cell_type": "markdown",
   "metadata": {},
   "source": [
    "Create icons to embed in the map"
   ]
  },
  {
   "cell_type": "code",
   "execution_count": 12,
   "metadata": {},
   "outputs": [],
   "source": [
    "industrialIcon <- makeIcon(\n",
    "  iconUrl = \"https://cdn3.iconfinder.com/data/icons/buildings-and-real-estates/30/factory-pollution-512.png\",\n",
    "  iconWidth = 55, iconHeight = 70,\n",
    "  iconAnchorX = 22, iconAnchorY = 94\n",
    ")\n",
    "\n",
    "stationIcon <- makeIcon(\n",
    "  iconUrl = \"https://cdn3.iconfinder.com/data/icons/universal-web-5/83/201-512.png\",\n",
    "  iconWidth = 55, iconHeight = 70,\n",
    "  iconAnchorX = 22, iconAnchorY = 94\n",
    ")"
   ]
  },
  {
   "cell_type": "code",
   "execution_count": 13,
   "metadata": {},
   "outputs": [
    {
     "data": {
      "text/html": [
       "<table>\n",
       "<thead><tr><th scope=col>Latitude</th><th scope=col>Longitude</th><th scope=col>DeviceHeight</th><th scope=col>AnnualPM</th></tr></thead>\n",
       "<tbody>\n",
       "\t<tr><td>42.73796</td><td>23.24134</td><td> 8      </td><td>0.38    </td></tr>\n",
       "\t<tr><td>42.66278</td><td>23.38881</td><td>15      </td><td>0.03    </td></tr>\n",
       "\t<tr><td>42.66291</td><td>23.38869</td><td>15      </td><td>0.20    </td></tr>\n",
       "\t<tr><td>42.66297</td><td>23.38863</td><td>15      </td><td>0.96    </td></tr>\n",
       "\t<tr><td>42.66309</td><td>23.38925</td><td>15      </td><td>1.58    </td></tr>\n",
       "\t<tr><td>42.73229</td><td>23.31744</td><td>12      </td><td>1.22    </td></tr>\n",
       "</tbody>\n",
       "</table>\n"
      ],
      "text/latex": [
       "\\begin{tabular}{r|llll}\n",
       " Latitude & Longitude & DeviceHeight & AnnualPM\\\\\n",
       "\\hline\n",
       "\t 42.73796 & 23.24134 &  8       & 0.38    \\\\\n",
       "\t 42.66278 & 23.38881 & 15       & 0.03    \\\\\n",
       "\t 42.66291 & 23.38869 & 15       & 0.20    \\\\\n",
       "\t 42.66297 & 23.38863 & 15       & 0.96    \\\\\n",
       "\t 42.66309 & 23.38925 & 15       & 1.58    \\\\\n",
       "\t 42.73229 & 23.31744 & 12       & 1.22    \\\\\n",
       "\\end{tabular}\n"
      ],
      "text/markdown": [
       "\n",
       "| Latitude | Longitude | DeviceHeight | AnnualPM |\n",
       "|---|---|---|---|\n",
       "| 42.73796 | 23.24134 |  8       | 0.38     |\n",
       "| 42.66278 | 23.38881 | 15       | 0.03     |\n",
       "| 42.66291 | 23.38869 | 15       | 0.20     |\n",
       "| 42.66297 | 23.38863 | 15       | 0.96     |\n",
       "| 42.66309 | 23.38925 | 15       | 1.58     |\n",
       "| 42.73229 | 23.31744 | 12       | 1.22     |\n",
       "\n"
      ],
      "text/plain": [
       "  Latitude Longitude DeviceHeight AnnualPM\n",
       "1 42.73796 23.24134   8           0.38    \n",
       "2 42.66278 23.38881  15           0.03    \n",
       "3 42.66291 23.38869  15           0.20    \n",
       "4 42.66297 23.38863  15           0.96    \n",
       "5 42.66309 23.38925  15           1.58    \n",
       "6 42.73229 23.31744  12           1.22    "
      ]
     },
     "metadata": {},
     "output_type": "display_data"
    }
   ],
   "source": [
    "head(Industrial)"
   ]
  },
  {
   "cell_type": "code",
   "execution_count": 65,
   "metadata": {},
   "outputs": [],
   "source": [
    "# PollutionMap <- leaflet() %>% \n",
    "#   \n",
    "#   # Base groups\n",
    "#   addProviderTiles(providers$Esri.WorldGrayCanvas, group = \"Basic Map\") %>% \n",
    "#   addProviderTiles(providers$Esri.WorldTopoMap, group = \"Topo Map\") %>%\n",
    "#   \n",
    "#   # Overlay groups\n",
    "#   \n",
    "#   # ------- industrial polluters\n",
    "#   addMarkers(data = Industrial, ~Longitude, ~Latitude,\n",
    "#              clusterOptions = markerClusterOptions(),\n",
    "#              icon = industrialIcon, group = \"Industrial Pollution\") %>% \n",
    "# \n",
    "#   # ------ stations\n",
    "#   addMarkers(data = StationLoc, ~Longitude, ~Latitude,\n",
    "#              # clusterOptions = markerClusterOptions(),\n",
    "#              icon = stationIcon, group = \"Official Stations\") %>% \n",
    "# \n",
    "#   addHeatmap(data = ConcInd, lng = ~Longitude, lat = ~Latitude,\n",
    "#              intensity = ~Spread_1000, gradient = \"Greys\",\n",
    "#              blur = 30, radius = 27,\n",
    "#              minOpacity = 0.40,\n",
    "#              group = \"Industrial Pollution: Spread 1000 m\") %>%\n",
    "# \n",
    "#   addHeatmap(data = ConcInd, lng = ~Longitude, lat = ~Latitude,\n",
    "#              intensity = ~Spread_2000, gradient = \"Greys\",\n",
    "#              blur = 30, radius = 29,\n",
    "#              minOpacity = 0.40,\n",
    "#              group = \"Industrial Pollution: Spread 2000 m\") %>%\n",
    "# \n",
    "#   addHeatmap(data = ConcInd, lng = ~Longitude, lat = ~Latitude,\n",
    "#              intensity = ~Spread_3000, gradient = \"Greys\",\n",
    "#              blur = 30, radius = 31,\n",
    "#              minOpacity = 0.40,\n",
    "#              group = \"Industrial Pollution: Spread 3000 m\") %>%\n",
    "# \n",
    "#   addHeatmap(data = ConcInd, lng = ~Longitude, lat = ~Latitude,\n",
    "#              intensity = ~Spread_4000, gradient = \"Greys\",\n",
    "#              blur = 30, radius = 33,\n",
    "#              minOpacity = 0.40,\n",
    "#              group = \"Industrial Pollution: Spread 4000 m\") %>%\n",
    "# \n",
    "#   addHeatmap(data = ConcInd, lng = ~Longitude, lat = ~Latitude,\n",
    "#              intensity = ~Spread_5000, gradient = \"Greys\",\n",
    "#              blur = 30, radius = 35,\n",
    "#              minOpacity = 0.40,\n",
    "#              group = \"Industrial Pollution: Spread 5000 m\") %>%\n",
    "# \n",
    "#   addHeatmap(data = ConcInd, lng = ~Longitude, lat = ~Latitude,\n",
    "#              intensity = ~Spread_6000, gradient = \"Greys\",\n",
    "#              blur = 30, radius = 37,\n",
    "#              minOpacity = 0.40,\n",
    "#              group = \"Industrial Pollution: Spread 6000 m\") %>%\n",
    "# \n",
    "#   addHeatmap(data = ConcInd, lng = ~Longitude, lat = ~Latitude,\n",
    "#              intensity = ~Spread_7000, gradient = \"Greys\",\n",
    "#              blur = 30, radius = 39,\n",
    "#              minOpacity = 0.40,\n",
    "#              group = \"Industrial Pollution: Spread 7000 m\") %>%\n",
    "# \n",
    "#   addHeatmap(data = ConcInd, lng = ~Longitude, lat = ~Latitude,\n",
    "#              intensity = ~Spread_8000, gradient = \"Greys\",\n",
    "#              blur = 30, radius = 41,\n",
    "#              minOpacity = 0.40,\n",
    "#              group = \"Industrial Pollution: Spread 8000 m\") %>%\n",
    "# \n",
    "#   addHeatmap(data = ConcInd, lng = ~Longitude, lat = ~Latitude,\n",
    "#              intensity = ~Spread_9000, gradient = \"Greys\",\n",
    "#              blur = 30, radius = 43,\n",
    "#              minOpacity = 0.40,\n",
    "#              group = \"Industrial Pollution: Spread 9000 m\") %>%\n",
    "# \n",
    "#   addHeatmap(data = ConcInd, lng = ~Longitude, lat = ~Latitude,\n",
    "#              intensity = ~Spread_10000, gradient = \"Greys\",\n",
    "#              blur = 30, radius = 45,\n",
    "#              minOpacity = 0.40,\n",
    "#              group = \"Industrial Pollution: Spread 10000 m\") %>%\n",
    "#   \n",
    "#   addHeatmap(data = StationLoc, lng = ~Longitude, lat = ~Latitude,\n",
    "#              intensity = ~2016-11-01, gradient = \"Reds\",\n",
    "#              blur = 30, radius = 25,\n",
    "#              minOpacity = 0.05,\n",
    "#              group = \"Pollution: Official Measurements\") %>% \n",
    "# \n",
    "#   addLayersControl(\n",
    "#     baseGroups = c(\"Topo Map\", \"Basic Map\"),\n",
    "#     overlayGroups = c(\"Official Stations\", \"Industrial Pollution\", \n",
    "#                       \"Pollution: Official Measurements\",\n",
    "#                       \"Industrial Pollution: Spread 1000 m\", \"Industrial Pollution: Spread 2000 m\", \n",
    "#                       \"Industrial Pollution: Spread 3000 m\", \"Industrial Pollution: Spread 4000 m\",\n",
    "#                       \"Industrial Pollution: Spread 5000 m\", \"Industrial Pollution: Spread 6000 m\",\n",
    "#                       \"Industrial Pollution: Spread 7000 m\", \"Industrial Pollution: Spread 8000 m\",\n",
    "#                       \"Industrial Pollution: Spread 9000 m\", \"Industrial Pollution: Spread 10000 m\"),\n",
    "#     options = layersControlOptions(collapsed = FALSE)\n",
    "#   ) "
   ]
  },
  {
   "cell_type": "markdown",
   "metadata": {},
   "source": [
    "# Our articles on particles would be nothing without a proper map of the data! "
   ]
  },
  {
   "cell_type": "markdown",
   "metadata": {},
   "source": [
    "Our approach was to create interactive maps of air pollution in Sofia and for that we used R and the libraries leaflet and leaflet.extra."
   ]
  },
  {
   "cell_type": "markdown",
   "metadata": {},
   "source": [
    "Our solution includes a map showcasing a few key aspects of air pollution in Sofia:\n",
    "- Official measurement stations in Sofia\n",
    "- Industrial pollutants\n",
    "- Pollution concentration as measured by official stations in red\n",
    "- Pollution concentration for industrial units in black\n",
    "\n",
    "The intensity of the color reflects the degree of pollution:\n",
    "- The bigger the circle, the farther the pollution spreads\n",
    "- The darker the colour, the higher the concentration of particles \n",
    "    \n",
    "The map is interactive and allows you, our curious readers, to explore the pollution in Sofia in several ways!\n",
    "                            \n",
    "- You may choose to look at a topographic map or a basic one\n",
    "- You may view all elements or only some of them \n",
    "- The official stations button allows you to locate the measurement stations on the map\n",
    "- Industrial pollutants may be identified as clusters of heavy polluters (depicted with counts) or as their specific locations once you zoom in\n",
    "- The degree of pollution may be examined by the measure of spread - ranging from 1000 to 10,000 meters in radius from the pollutant\n",
    "\n",
    "This map represents the first day of our historical data."
   ]
  },
  {
   "cell_type": "code",
   "execution_count": 20,
   "metadata": {},
   "outputs": [
    {
     "data": {
      "text/html": [
       "<style>.container { width:100% !important; }</style>"
      ]
     },
     "metadata": {},
     "output_type": "display_data"
    },
    {
     "data": {
      "text/html": [
       "<iframe src=\"Industrial Pollutants.html\" width=1000, height=1000></iframe> "
      ]
     },
     "metadata": {},
     "output_type": "display_data"
    }
   ],
   "source": [
    "IRdisplay::display_html('<style>.container { width:100% !important; }</style>')\n",
    "IRdisplay::display_html('<iframe src=\"Industrial Pollutants.html\" width=1000, height=1000></iframe> ')"
   ]
  },
  {
   "cell_type": "markdown",
   "metadata": {},
   "source": [
    "# And one for the predictions for day 1"
   ]
  },
  {
   "cell_type": "code",
   "execution_count": 19,
   "metadata": {},
   "outputs": [
    {
     "data": {
      "text/html": [
       "<style>.container { width:100% !important; }</style>"
      ]
     },
     "metadata": {},
     "output_type": "display_data"
    },
    {
     "data": {
      "text/html": [
       "<iframe src=\"Pollution21.html\" width=1000, height=1000></iframe> "
      ]
     },
     "metadata": {},
     "output_type": "display_data"
    }
   ],
   "source": [
    "IRdisplay::display_html('<style>.container { width:100% !important; }</style>')\n",
    "IRdisplay::display_html('<iframe src=\"Pollution21.html\" width=1000, height=1000></iframe> ')"
   ]
  },
  {
   "cell_type": "code",
   "execution_count": null,
   "metadata": {},
   "outputs": [],
   "source": []
  }
 ],
 "metadata": {
  "kernelspec": {
   "display_name": "R",
   "language": "R",
   "name": "ir"
  },
  "language_info": {
   "codemirror_mode": "r",
   "file_extension": ".r",
   "mimetype": "text/x-r-source",
   "name": "R",
   "pygments_lexer": "r",
   "version": "3.5.1"
  }
 },
 "nbformat": 4,
 "nbformat_minor": 2
}
